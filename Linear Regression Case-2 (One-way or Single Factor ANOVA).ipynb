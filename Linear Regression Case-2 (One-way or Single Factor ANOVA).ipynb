{
 "cells": [
  {
   "cell_type": "markdown",
   "id": "515ec946",
   "metadata": {},
   "source": [
    "# One-way/ Single factor ANOVA Linear Model for Wind speed and Daily Summary values from weather data "
   ]
  },
  {
   "cell_type": "code",
   "execution_count": 24,
   "id": "a471422c",
   "metadata": {},
   "outputs": [
    {
     "data": {
      "text/plain": [
       "               Df Sum Sq Mean Sq F value   Pr(>F)    \n",
       "Daily.Summary   4   1983   495.8   11.49 6.85e-08 ***\n",
       "Residuals     116   5006    43.2                     \n",
       "---\n",
       "Signif. codes:  0 '***' 0.001 '**' 0.01 '*' 0.05 '.' 0.1 ' ' 1"
      ]
     },
     "metadata": {},
     "output_type": "display_data"
    }
   ],
   "source": [
    "weather = read.csv(\"weatherHistory.csv\", header = TRUE)\n",
    "weather = weather[0:121,]\n",
    "#print(weather)\n",
    "# names(weather)[names(weather) == \"Daily Summary\"] <- \"Summary\"\n",
    "#names(weather)[names(weather) == \"Wind Speed (km/h)\"] <- \"wind_speed\"\n",
    "weather$Daily.Summary <- factor(weather$Daily.Summary)\n",
    "weather.aov <- aov(Wind.Speed..km.h.~ Daily.Summary, data = weather)\n",
    "summary(weather.aov)"
   ]
  },
  {
   "cell_type": "markdown",
   "id": "7c3c4e24",
   "metadata": {},
   "source": [
    "# BoxPlot of One-way/ Single factor ANOVA Linear Model for Wind speed and Daily Summary values from weather data "
   ]
  },
  {
   "cell_type": "code",
   "execution_count": 25,
   "id": "ebdfa8fd",
   "metadata": {},
   "outputs": [
    {
     "data": {
      "image/png": "[encoded data removed]",
      "text/plain": [
       "plot without title"
      ]
     },
     "metadata": {},
     "output_type": "display_data"
    }
   ],
   "source": [
    "boxplot(Wind.Speed..km.h.~ Daily.Summary, data=weather, ylab = \"Wind Speed (km/h)\", xlab = \"Weather Summary\", cex.axis=0.75)"
   ]
  },
  {
   "cell_type": "markdown",
   "id": "c7a5bb64",
   "metadata": {},
   "source": [
    "# Identifying which groups are different in One-way/ Single factor ANOVA Linear Model for Wind speed and Daily Summary values from weather data "
   ]
  },
  {
   "cell_type": "code",
   "execution_count": 26,
   "id": "714b5ffa",
   "metadata": {},
   "outputs": [
    {
     "data": {
      "text/plain": [
       "  Tukey multiple comparisons of means\n",
       "    95% family-wise confidence level\n",
       "\n",
       "Fit: aov(formula = Wind.Speed..km.h. ~ Daily.Summary, data = weather)\n",
       "\n",
       "$Daily.Summary\n",
       "                                                                                   diff\n",
       "Foggy overnight and breezy in the morning.-Foggy in the evening.               7.260429\n",
       "Mostly cloudy throughout the day.-Foggy in the evening.                        3.183104\n",
       "Overcast throughout the day.-Foggy in the evening.                            -3.845217\n",
       "Partly cloudy throughout the day.-Foggy in the evening.                       -2.772554\n",
       "Mostly cloudy throughout the day.-Foggy overnight and breezy in the morning.  -4.077325\n",
       "Overcast throughout the day.-Foggy overnight and breezy in the morning.      -11.105646\n",
       "Partly cloudy throughout the day.-Foggy overnight and breezy in the morning. -10.032983\n",
       "Overcast throughout the day.-Mostly cloudy throughout the day.                -7.028321\n",
       "Partly cloudy throughout the day.-Mostly cloudy throughout the day.           -5.955658\n",
       "Partly cloudy throughout the day.-Overcast throughout the day.                 1.072662\n",
       "                                                                                    lwr\n",
       "Foggy overnight and breezy in the morning.-Foggy in the evening.               2.005249\n",
       "Mostly cloudy throughout the day.-Foggy in the evening.                       -2.019258\n",
       "Overcast throughout the day.-Foggy in the evening.                            -9.100396\n",
       "Partly cloudy throughout the day.-Foggy in the evening.                       -8.027734\n",
       "Mostly cloudy throughout the day.-Foggy overnight and breezy in the morning.  -9.279688\n",
       "Overcast throughout the day.-Foggy overnight and breezy in the morning.      -16.360826\n",
       "Partly cloudy throughout the day.-Foggy overnight and breezy in the morning. -15.288163\n",
       "Overcast throughout the day.-Mostly cloudy throughout the day.               -12.230683\n",
       "Partly cloudy throughout the day.-Mostly cloudy throughout the day.          -11.158021\n",
       "Partly cloudy throughout the day.-Overcast throughout the day.                -4.182517\n",
       "                                                                                    upr\n",
       "Foggy overnight and breezy in the morning.-Foggy in the evening.             12.5156089\n",
       "Mostly cloudy throughout the day.-Foggy in the evening.                       8.3854667\n",
       "Overcast throughout the day.-Foggy in the evening.                            1.4099631\n",
       "Partly cloudy throughout the day.-Foggy in the evening.                       2.4826256\n",
       "Mostly cloudy throughout the day.-Foggy overnight and breezy in the morning.  1.1250375\n",
       "Overcast throughout the day.-Foggy overnight and breezy in the morning.      -5.8504661\n",
       "Partly cloudy throughout the day.-Foggy overnight and breezy in the morning. -4.7778036\n",
       "Overcast throughout the day.-Mostly cloudy throughout the day.               -1.8259583\n",
       "Partly cloudy throughout the day.-Mostly cloudy throughout the day.          -0.7532958\n",
       "Partly cloudy throughout the day.-Overcast throughout the day.                6.3278422\n",
       "                                                                                 p adj\n",
       "Foggy overnight and breezy in the morning.-Foggy in the evening.             0.0019247\n",
       "Mostly cloudy throughout the day.-Foggy in the evening.                      0.4407231\n",
       "Overcast throughout the day.-Foggy in the evening.                           0.2594488\n",
       "Partly cloudy throughout the day.-Foggy in the evening.                      0.5890833\n",
       "Mostly cloudy throughout the day.-Foggy overnight and breezy in the morning. 0.1977761\n",
       "Overcast throughout the day.-Foggy overnight and breezy in the morning.      0.0000004\n",
       "Partly cloudy throughout the day.-Foggy overnight and breezy in the morning. 0.0000057\n",
       "Overcast throughout the day.-Mostly cloudy throughout the day.               0.0025847\n",
       "Partly cloudy throughout the day.-Mostly cloudy throughout the day.          0.0162732\n",
       "Partly cloudy throughout the day.-Overcast throughout the day.               0.9797426\n"
      ]
     },
     "metadata": {},
     "output_type": "display_data"
    }
   ],
   "source": [
    "TukeyHSD(weather.aov)"
   ]
  }
 ],
 "metadata": {
  "kernelspec": {
   "display_name": "R",
   "language": "R",
   "name": "ir"
  },
  "language_info": {
   "codemirror_mode": "r",
   "file_extension": ".r",
   "mimetype": "text/x-r-source",
   "name": "R",
   "pygments_lexer": "r",
   "version": "3.6.1"
  }
 },
 "nbformat": 4,
 "nbformat_minor": 5
}
