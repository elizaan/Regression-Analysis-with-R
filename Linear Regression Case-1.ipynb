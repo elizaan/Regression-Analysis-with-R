{
 "cells": [
  {
   "cell_type": "markdown",
   "id": "f70b8ac1",
   "metadata": {},
   "source": [
    "# Modeling linear regression for Salinity and Temperature of Ocean Data"
   ]
  },
  {
   "cell_type": "code",
   "execution_count": 33,
   "id": "d12f224f",
   "metadata": {},
   "outputs": [
    {
     "data": {
      "text/plain": [
       "\n",
       "Call:\n",
       "lm(formula = Salnty ~ T_degC, data = bottle[0:90, ])\n",
       "\n",
       "Residuals:\n",
       "     Min       1Q   Median       3Q      Max \n",
       "-0.54966 -0.12433 -0.00703  0.18521  0.41933 \n",
       "\n",
       "Coefficients:\n",
       "            Estimate Std. Error t value Pr(>|t|)    \n",
       "(Intercept) 35.13146    0.09664  363.53   <2e-16 ***\n",
       "T_degC      -0.19412    0.01232  -15.76   <2e-16 ***\n",
       "---\n",
       "Signif. codes:  0 '***' 0.001 '**' 0.01 '*' 0.05 '.' 0.1 ' ' 1\n",
       "\n",
       "Residual standard error: 0.2723 on 87 degrees of freedom\n",
       "  (1 observation deleted due to missingness)\n",
       "Multiple R-squared:  0.7406,\tAdjusted R-squared:  0.7376 \n",
       "F-statistic: 248.4 on 1 and 87 DF,  p-value: < 2.2e-16\n"
      ]
     },
     "metadata": {},
     "output_type": "display_data"
    }
   ],
   "source": [
    "bottle = read.csv(\"bottle.csv\", header = TRUE)\n",
    "model<-lm(Salnty~T_degC, data = bottle[0:90,])\n",
    "summary(model)"
   ]
  },
  {
   "cell_type": "markdown",
   "id": "0625ba33",
   "metadata": {},
   "source": [
    "# Ploting regression line for Salinity and Temperature of Ocean Data"
   ]
  },
  {
   "cell_type": "code",
   "execution_count": 34,
   "id": "9815ecbd",
   "metadata": {},
   "outputs": [
    {
     "data": {
      "image/png": "[encoded data removed]",
      "text/plain": [
       "plot without title"
      ]
     },
     "metadata": {},
     "output_type": "display_data"
    }
   ],
   "source": [
    "plot(Salnty~T_degC, data = bottle[0:90,], xlab = \"Temperature\", ylab =\n",
    "\"Salinity\",pch=16)\n",
    "abline(model, col = \"red\")"
   ]
  },
  {
   "cell_type": "code",
   "execution_count": 35,
   "id": "7d0fd580",
   "metadata": {},
   "outputs": [],
   "source": [
    "# bottle$Depthm<-factor(bottle$Depthm)\n",
    "# bottle$T_degC<-factor(bottle$T_degC)\n",
    "# bottle.aov<-aov(Salnty~Depthm*T_degC, data = bottle[0:90,])\n",
    "# summary(bottle.aov)"
   ]
  },
  {
   "cell_type": "markdown",
   "id": "fc2e4cc6",
   "metadata": {},
   "source": [
    "#  Modeling linear regression for Salinity and Deapth of Ocean Data"
   ]
  },
  {
   "cell_type": "code",
   "execution_count": 36,
   "id": "b5a89429",
   "metadata": {},
   "outputs": [
    {
     "data": {
      "text/plain": [
       "\n",
       "Call:\n",
       "lm(formula = Salnty ~ Depthm, data = bottle[0:90, ])\n",
       "\n",
       "Residuals:\n",
       "    Min      1Q  Median      3Q     Max \n",
       "-0.6852 -0.2005  0.1167  0.2455  0.4099 \n",
       "\n",
       "Coefficients:\n",
       "             Estimate Std. Error t value Pr(>|t|)    \n",
       "(Intercept) 3.327e+01  4.689e-02  709.63   <2e-16 ***\n",
       "Depthm      1.305e-03  1.045e-04   12.49   <2e-16 ***\n",
       "---\n",
       "Signif. codes:  0 '***' 0.001 '**' 0.01 '*' 0.05 '.' 0.1 ' ' 1\n",
       "\n",
       "Residual standard error: 0.3199 on 87 degrees of freedom\n",
       "  (1 observation deleted due to missingness)\n",
       "Multiple R-squared:  0.6419,\tAdjusted R-squared:  0.6378 \n",
       "F-statistic:   156 on 1 and 87 DF,  p-value: < 2.2e-16\n"
      ]
     },
     "metadata": {},
     "output_type": "display_data"
    }
   ],
   "source": [
    "model2<-lm(Salnty~Depthm, data = bottle[0:90,])\n",
    "summary(model2)"
   ]
  },
  {
   "cell_type": "markdown",
   "id": "23e6e761",
   "metadata": {},
   "source": [
    "# Ploting regression line for Salinity and Deapth from Ocean Data"
   ]
  },
  {
   "cell_type": "code",
   "execution_count": 37,
   "id": "dbaaf0d4",
   "metadata": {},
   "outputs": [
    {
     "data": {
      "image/png": "[encoded data removed]",
      "text/plain": [
       "plot without title"
      ]
     },
     "metadata": {},
     "output_type": "display_data"
    }
   ],
   "source": [
    "plot(Salnty~Depthm, data = bottle[0:90,], xlab = \"Depth\", ylab =\n",
    "\"Salinity\",pch=16)\n",
    "abline(model2, col = \"red\")"
   ]
  },
  {
   "cell_type": "code",
   "execution_count": null,
   "id": "931b1140",
   "metadata": {},
   "outputs": [],
   "source": []
  }
 ],
 "metadata": {
  "kernelspec": {
   "display_name": "R",
   "language": "R",
   "name": "ir"
  },
  "language_info": {
   "codemirror_mode": "r",
   "file_extension": ".r",
   "mimetype": "text/x-r-source",
   "name": "R",
   "pygments_lexer": "r",
   "version": "3.6.1"
  }
 },
 "nbformat": 4,
 "nbformat_minor": 5
}
