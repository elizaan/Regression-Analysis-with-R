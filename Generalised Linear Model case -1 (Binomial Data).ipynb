{
 "cells": [
  {
   "cell_type": "markdown",
   "id": "e45c8a7c",
   "metadata": {},
   "source": [
    "# Testing whether the probability of bird hatching eggs changes with time (a factor) and temperature (a continuous variable), we fit the GLM model. The response variable (presence/absence of hatched eggs of Bird) is binomial, so we use family=binomial."
   ]
  },
  {
   "cell_type": "code",
   "execution_count": 9,
   "id": "87b49594",
   "metadata": {},
   "outputs": [
    {
     "data": {
      "text/plain": [
       "\n",
       "Call:\n",
       "glm(formula = Birdhatch ~ Time * Temperature..Degree., family = binomial, \n",
       "    data = Bird)\n",
       "\n",
       "Deviance Residuals: \n",
       "    Min       1Q   Median       3Q      Max  \n",
       "-1.3047  -0.7788  -0.4750   1.1048   2.1156  \n",
       "\n",
       "Coefficients:\n",
       "                          Estimate Std. Error z value Pr(>|z|)   \n",
       "(Intercept)               -5.94845    2.28682  -2.601  0.00929 **\n",
       "Time                       0.62831    0.24921   2.521  0.01170 * \n",
       "Temperature..Degree.       0.17675    0.11058   1.598  0.10997   \n",
       "Time:Temperature..Degree. -0.02171    0.01331  -1.631  0.10282   \n",
       "---\n",
       "Signif. codes:  0 '***' 0.001 '**' 0.01 '*' 0.05 '.' 0.1 ' ' 1\n",
       "\n",
       "(Dispersion parameter for binomial family taken to be 1)\n",
       "\n",
       "    Null deviance: 71.097  on 56  degrees of freedom\n",
       "Residual deviance: 61.608  on 53  degrees of freedom\n",
       "AIC: 69.608\n",
       "\n",
       "Number of Fisher Scoring iterations: 4\n"
      ]
     },
     "metadata": {},
     "output_type": "display_data"
    }
   ],
   "source": [
    "Bird <- read.csv(\"Birdshatch.csv\", header = T)\n",
    "# print(Bird)\n",
    "ft.bird <- glm(Birdhatch ~ Time*Temperature..Degree., family=binomial, data=Bird)\n",
    "summary(ft.bird)"
   ]
  },
  {
   "cell_type": "markdown",
   "id": "a23a753f",
   "metadata": {},
   "source": [
    "# Plotting the residuals"
   ]
  },
  {
   "cell_type": "code",
   "execution_count": 10,
   "id": "6f10a3b5",
   "metadata": {},
   "outputs": [
    {
     "data": {
      "image/png": "[encoded data removed]",
      "text/plain": [
       "Plot with title \"\""
      ]
     },
     "metadata": {},
     "output_type": "display_data"
    }
   ],
   "source": [
    "plot(ft.bird,which=1)"
   ]
  },
  {
   "cell_type": "markdown",
   "id": "866cfa53",
   "metadata": {},
   "source": [
    "# The two main functions for inference are the same as for linear models: summary and anova. For binomial models in particular the p-values from the summary function can be funny, and we prefer to use the anova function to see if predictors are significant. The summary() function is still useful to look at the model equation."
   ]
  },
  {
   "cell_type": "code",
   "execution_count": 11,
   "id": "59c62f36",
   "metadata": {},
   "outputs": [
    {
     "data": {
      "text/html": [
       "<table>\n",
       "<thead><tr><th></th><th scope=col>Df</th><th scope=col>Deviance</th><th scope=col>Resid. Df</th><th scope=col>Resid. Dev</th><th scope=col>Pr(&gt;Chi)</th></tr></thead>\n",
       "<tbody>\n",
       "\t<tr><th scope=row>NULL</th><td>NA         </td><td>         NA</td><td>56         </td><td>71.09665   </td><td>         NA</td></tr>\n",
       "\t<tr><th scope=row>Time</th><td> 1         </td><td>6.670078078</td><td>55         </td><td>64.42657   </td><td>0.009804489</td></tr>\n",
       "\t<tr><th scope=row>Temperature..Degree.</th><td> 1         </td><td>0.003992237</td><td>54         </td><td>64.42258   </td><td>0.949619862</td></tr>\n",
       "\t<tr><th scope=row>Time:Temperature..Degree.</th><td> 1         </td><td>2.814376254</td><td>53         </td><td>61.60821   </td><td>0.093423204</td></tr>\n",
       "</tbody>\n",
       "</table>\n"
      ],
      "text/latex": [
       "\\begin{tabular}{r|lllll}\n",
       "  & Df & Deviance & Resid. Df & Resid. Dev & Pr(>Chi)\\\\\n",
       "\\hline\n",
       "\tNULL & NA          &          NA & 56          & 71.09665    &          NA\\\\\n",
       "\tTime &  1          & 6.670078078 & 55          & 64.42657    & 0.009804489\\\\\n",
       "\tTemperature..Degree. &  1          & 0.003992237 & 54          & 64.42258    & 0.949619862\\\\\n",
       "\tTime:Temperature..Degree. &  1          & 2.814376254 & 53          & 61.60821    & 0.093423204\\\\\n",
       "\\end{tabular}\n"
      ],
      "text/markdown": [
       "\n",
       "| <!--/--> | Df | Deviance | Resid. Df | Resid. Dev | Pr(>Chi) |\n",
       "|---|---|---|---|---|---|\n",
       "| NULL | NA          |          NA | 56          | 71.09665    |          NA |\n",
       "| Time |  1          | 6.670078078 | 55          | 64.42657    | 0.009804489 |\n",
       "| Temperature..Degree. |  1          | 0.003992237 | 54          | 64.42258    | 0.949619862 |\n",
       "| Time:Temperature..Degree. |  1          | 2.814376254 | 53          | 61.60821    | 0.093423204 |\n",
       "\n"
      ],
      "text/plain": [
       "                          Df Deviance    Resid. Df Resid. Dev Pr(>Chi)   \n",
       "NULL                      NA          NA 56        71.09665            NA\n",
       "Time                       1 6.670078078 55        64.42657   0.009804489\n",
       "Temperature..Degree.       1 0.003992237 54        64.42258   0.949619862\n",
       "Time:Temperature..Degree.  1 2.814376254 53        61.60821   0.093423204"
      ]
     },
     "metadata": {},
     "output_type": "display_data"
    }
   ],
   "source": [
    "anova(ft.bird,test=\"Chisq\")"
   ]
  },
  {
   "cell_type": "code",
   "execution_count": 12,
   "id": "be0f97f1",
   "metadata": {},
   "outputs": [
    {
     "data": {
      "text/plain": [
       "\n",
       "Call:\n",
       "glm(formula = Birdhatch ~ Time * Temperature..Degree., family = binomial, \n",
       "    data = Bird)\n",
       "\n",
       "Deviance Residuals: \n",
       "    Min       1Q   Median       3Q      Max  \n",
       "-1.3047  -0.7788  -0.4750   1.1048   2.1156  \n",
       "\n",
       "Coefficients:\n",
       "                          Estimate Std. Error z value Pr(>|z|)   \n",
       "(Intercept)               -5.94845    2.28682  -2.601  0.00929 **\n",
       "Time                       0.62831    0.24921   2.521  0.01170 * \n",
       "Temperature..Degree.       0.17675    0.11058   1.598  0.10997   \n",
       "Time:Temperature..Degree. -0.02171    0.01331  -1.631  0.10282   \n",
       "---\n",
       "Signif. codes:  0 '***' 0.001 '**' 0.01 '*' 0.05 '.' 0.1 ' ' 1\n",
       "\n",
       "(Dispersion parameter for binomial family taken to be 1)\n",
       "\n",
       "    Null deviance: 71.097  on 56  degrees of freedom\n",
       "Residual deviance: 61.608  on 53  degrees of freedom\n",
       "AIC: 69.608\n",
       "\n",
       "Number of Fisher Scoring iterations: 4\n"
      ]
     },
     "metadata": {},
     "output_type": "display_data"
    }
   ],
   "source": [
    "summary(ft.bird)"
   ]
  }
 ],
 "metadata": {
  "kernelspec": {
   "display_name": "R",
   "language": "R",
   "name": "ir"
  },
  "language_info": {
   "codemirror_mode": "r",
   "file_extension": ".r",
   "mimetype": "text/x-r-source",
   "name": "R",
   "pygments_lexer": "r",
   "version": "3.6.1"
  }
 },
 "nbformat": 4,
 "nbformat_minor": 5
}
